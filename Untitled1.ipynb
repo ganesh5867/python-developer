{
  "nbformat": 4,
  "nbformat_minor": 0,
  "metadata": {
    "colab": {
      "name": "Untitled1.ipynb",
      "provenance": [],
      "include_colab_link": true
    },
    "kernelspec": {
      "name": "python2",
      "display_name": "Python 2"
    }
  },
  "cells": [
    {
      "cell_type": "markdown",
      "metadata": {
        "id": "view-in-github",
        "colab_type": "text"
      },
      "source": [
        "<a href=\"https://colab.research.google.com/github/ganesh5867/python-developer/blob/main/Untitled1.ipynb\" target=\"_parent\"><img src=\"https://colab.research.google.com/assets/colab-badge.svg\" alt=\"Open In Colab\"/></a>"
      ]
    },
    {
      "metadata": {
        "id": "LtmMnLUG0U6L"
      },
      "cell_type": "code",
      "source": [
        "import numpy as np"
      ],
      "execution_count": 2,
      "outputs": []
    },
    {
      "cell_type": "code",
      "source": [
        "# 1d array\n",
        "arr1=np.array([1,2,3,4,])\n",
        "arr1"
      ],
      "metadata": {
        "id": "5lA8mbM88Ojq",
        "outputId": "a1eafbce-ba8e-4ea5-9922-ded542d8798c",
        "colab": {
          "base_uri": "https://localhost:8080/"
        }
      },
      "execution_count": 3,
      "outputs": [
        {
          "output_type": "execute_result",
          "data": {
            "text/plain": [
              "array([1, 2, 3, 4])"
            ]
          },
          "metadata": {},
          "execution_count": 3
        }
      ]
    },
    {
      "metadata": {
        "id": "iH1oEngB02Zv",
        "colab": {
          "base_uri": "https://localhost:8080/"
        },
        "outputId": "8616d5bf-d992-4fb2-df22-66755d2a6a38"
      },
      "cell_type": "code",
      "source": [
        "#2d arraay\n",
        "arr2=np.array([[1,2,3],[4,5,6]])\n",
        "arr2"
      ],
      "execution_count": 5,
      "outputs": [
        {
          "output_type": "execute_result",
          "data": {
            "text/plain": [
              "array([[1, 2, 3],\n",
              "       [4, 5, 6]])"
            ]
          },
          "metadata": {},
          "execution_count": 5
        }
      ]
    },
    {
      "metadata": {
        "id": "XKxzbrsy1Ulk",
        "colab": {
          "base_uri": "https://localhost:8080/"
        },
        "outputId": "3bd4eefb-6df0-4659-ddc3-bbba44837532"
      },
      "cell_type": "code",
      "source": [
        "#3d arraay\n",
        "arr3=np.array([[1,2,3,],[4,5,6],[7,8,9]])\n",
        "arr3"
      ],
      "execution_count": 7,
      "outputs": [
        {
          "output_type": "execute_result",
          "data": {
            "text/plain": [
              "array([[1, 2, 3],\n",
              "       [4, 5, 6],\n",
              "       [7, 8, 9]])"
            ]
          },
          "metadata": {},
          "execution_count": 7
        }
      ]
    },
    {
      "cell_type": "code",
      "source": [
        "arr4=np.array([[[1,2,3],[4,5,6]],[[7,8,9],[3,5,6]]])\n",
        "arr4"
      ],
      "metadata": {
        "id": "LI4I3OpUAeDK",
        "outputId": "d353604d-8b75-463f-8d0d-3a2a8db631d8",
        "colab": {
          "base_uri": "https://localhost:8080/"
        }
      },
      "execution_count": 9,
      "outputs": [
        {
          "output_type": "execute_result",
          "data": {
            "text/plain": [
              "array([[[1, 2, 3],\n",
              "        [4, 5, 6]],\n",
              "\n",
              "       [[7, 8, 9],\n",
              "        [3, 5, 6]]])"
            ]
          },
          "metadata": {},
          "execution_count": 9
        }
      ]
    },
    {
      "cell_type": "code",
      "source": [
        "arr5=np.zeros((4,3))\n",
        "arr5"
      ],
      "metadata": {
        "id": "7MeCTIdDAd_y",
        "outputId": "80e47ac8-c42b-4f1f-a074-c180f5a5258a",
        "colab": {
          "base_uri": "https://localhost:8080/"
        }
      },
      "execution_count": 10,
      "outputs": [
        {
          "output_type": "execute_result",
          "data": {
            "text/plain": [
              "array([[0., 0., 0.],\n",
              "       [0., 0., 0.],\n",
              "       [0., 0., 0.],\n",
              "       [0., 0., 0.]])"
            ]
          },
          "metadata": {},
          "execution_count": 10
        }
      ]
    },
    {
      "cell_type": "code",
      "source": [
        "arr6=np.ones((5,4))\n",
        "arr6"
      ],
      "metadata": {
        "id": "CYAYcs4AAd80",
        "outputId": "4c5607e8-18cd-4bac-b969-1437fde792db",
        "colab": {
          "base_uri": "https://localhost:8080/"
        }
      },
      "execution_count": 11,
      "outputs": [
        {
          "output_type": "execute_result",
          "data": {
            "text/plain": [
              "array([[1., 1., 1., 1.],\n",
              "       [1., 1., 1., 1.],\n",
              "       [1., 1., 1., 1.],\n",
              "       [1., 1., 1., 1.],\n",
              "       [1., 1., 1., 1.]])"
            ]
          },
          "metadata": {},
          "execution_count": 11
        }
      ]
    },
    {
      "cell_type": "code",
      "source": [
        "arr7=np."
      ],
      "metadata": {
        "id": "D5X90GNZAd5n"
      },
      "execution_count": null,
      "outputs": []
    },
    {
      "cell_type": "code",
      "source": [],
      "metadata": {
        "id": "lXrjHPamAdoG"
      },
      "execution_count": null,
      "outputs": []
    },
    {
      "cell_type": "code",
      "source": [],
      "metadata": {
        "id": "E3LnMnByAdkw"
      },
      "execution_count": null,
      "outputs": []
    }
  ]
}
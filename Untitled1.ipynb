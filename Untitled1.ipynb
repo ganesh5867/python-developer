{
  "nbformat": 4,
  "nbformat_minor": 0,
  "metadata": {
    "colab": {
      "name": "Untitled1.ipynb",
      "provenance": [],
      "include_colab_link": true
    },
    "kernelspec": {
      "name": "python2",
      "display_name": "Python 2"
    }
  },
  "cells": [
    {
      "cell_type": "markdown",
      "metadata": {
        "id": "view-in-github",
        "colab_type": "text"
      },
      "source": [
        "<a href=\"https://colab.research.google.com/github/ganesh5867/python-developer/blob/main/Untitled1.ipynb\" target=\"_parent\"><img src=\"https://colab.research.google.com/assets/colab-badge.svg\" alt=\"Open In Colab\"/></a>"
      ]
    },
    {
      "metadata": {
        "id": "LtmMnLUG0U6L"
      },
      "cell_type": "code",
      "source": [],
      "execution_count": null,
      "outputs": []
    },
    {
      "metadata": {
        "id": "iH1oEngB02Zv"
      },
      "cell_type": "code",
      "source": [
        "!pip install --upgrade -q gspread"
      ],
      "execution_count": null,
      "outputs": []
    },
    {
      "metadata": {
        "id": "XKxzbrsy1Ulk"
      },
      "cell_type": "code",
      "source": [
        "!pip install --upgrade -q gspread"
      ],
      "execution_count": null,
      "outputs": []
    },
    {
      "metadata": {
        "id": "6UbkNzJn1Um3",
        "colab": {
          "base_uri": "https://localhost:8080/"
        },
        "outputId": "5704a1e7-31b8-4ecf-982f-86d924ddb0b2"
      },
      "cell_type": "code",
      "source": [
        "def add():\n",
        "  a,b=10,20\n",
        "  c=a+b\n",
        "  print(c)\n",
        "  def sub():\n",
        "    d=a-b\n",
        "    print(d)\n",
        "  return sub\n",
        "\n",
        "a=add()\n",
        "a()\n"
      ],
      "execution_count": 14,
      "outputs": [
        {
          "output_type": "stream",
          "name": "stdout",
          "text": [
            "30\n",
            "-10\n"
          ]
        }
      ]
    },
    {
      "cell_type": "code",
      "source": [
        "def add():\n",
        "  a,b=10,20\n",
        "  c=a+b\n",
        "  print(c)\n",
        "add()\n",
        "k=lambda a,b:a+b\n",
        "print(k(10,20))"
      ],
      "metadata": {
        "id": "nsl1P-gUwShH",
        "outputId": "af51c654-bf18-42c4-e47b-d69df19d88d8",
        "colab": {
          "base_uri": "https://localhost:8080/"
        }
      },
      "execution_count": 17,
      "outputs": [
        {
          "output_type": "stream",
          "name": "stdout",
          "text": [
            "30\n",
            "30\n"
          ]
        }
      ]
    }
  ]
}